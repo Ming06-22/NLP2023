{
 "cells": [
  {
   "cell_type": "code",
   "execution_count": 1,
   "id": "0e174465",
   "metadata": {},
   "outputs": [],
   "source": [
    "%load_ext memory_profiler"
   ]
  },
  {
   "cell_type": "code",
   "execution_count": 2,
   "id": "3a9cbeaf",
   "metadata": {},
   "outputs": [],
   "source": [
    "import os\n",
    "import gensim\n",
    "import jieba\n",
    "import zhconv\n",
    "from gensim.corpora import WikiCorpus\n",
    "from datetime import datetime\n",
    "from typing import List\n",
    "\n",
    "if (not os.path.isfile(\"dict.txt.big\")):\n",
    "    ! wget https://github.com/fxsjy/jieba/raw/master/extra_dict/dict.txt.big\n",
    "\n",
    "jieba.set_dictionary(\"dict.txt.big\")"
   ]
  },
  {
   "cell_type": "code",
   "execution_count": 3,
   "id": "52c347ee",
   "metadata": {},
   "outputs": [
    {
     "name": "stdout",
     "output_type": "stream",
     "text": [
      "2.6G\tzhwiki-20230501-pages-articles-multistream.xml.bz2\n",
      "MD5 (zhwiki-20230501-pages-articles-multistream.xml.bz2) = 27e78ff901bcd3803955d9373537dd3f\n",
      "zhwiki-20230501-pages-articles-multistream.xml.bz2: bzip2 compressed data, block size = 900k\n"
     ]
    }
   ],
   "source": [
    "ZhWiki = \"zhwiki-20230501-pages-articles-multistream.xml.bz2\"\n",
    "\n",
    "!du -sh $ZhWiki\n",
    "!md5 $ZhWiki\n",
    "!file $ZhWiki"
   ]
  },
  {
   "cell_type": "code",
   "execution_count": 4,
   "id": "ca217bdf",
   "metadata": {
    "scrolled": true
   },
   "outputs": [],
   "source": [
    "import spacy\n",
    "\n",
    "nlp_zh = spacy.load(\"zh_core_web_sm\")\n",
    "nlp_en = spacy.load(\"en_core_web_sm\")"
   ]
  },
  {
   "cell_type": "code",
   "execution_count": 5,
   "id": "bb73ca5d",
   "metadata": {},
   "outputs": [],
   "source": [
    "STOPWORDS =  nlp_zh.Defaults.stop_words | nlp_en.Defaults.stop_words | set([\"\\n\", \"\\r\\n\", \"\\t\", \" \", \"\"])\n",
    "\n",
    "for word in STOPWORDS.copy():\n",
    "    STOPWORDS.add(zhconv.convert(word, \"zh-tw\"))"
   ]
  },
  {
   "cell_type": "code",
   "execution_count": 6,
   "id": "e7d63d77",
   "metadata": {},
   "outputs": [],
   "source": [
    "def preprocess_and_tokenize(text, token_min_len = 1, token_max_len = 15, lower = True):\n",
    "    if (lower):\n",
    "        text = text.lower()\n",
    "    text = zhconv.convert(text, \"zh-tw\")\n",
    "    return [\n",
    "        token for token in jieba.cut(text, cut_all = False)\n",
    "        if token_min_len <= len(token) <= token_max_len and token not in STOPWORDS\n",
    "    ]"
   ]
  },
  {
   "cell_type": "code",
   "execution_count": 7,
   "id": "fe84aa3c",
   "metadata": {},
   "outputs": [
    {
     "name": "stdout",
     "output_type": "stream",
     "text": [
      "Parsing zhwiki-20230501-pages-articles-multistream.xml.bz2...\n"
     ]
    },
    {
     "name": "stderr",
     "output_type": "stream",
     "text": [
      "/opt/homebrew/anaconda3/lib/python3.9/site-packages/gensim/utils.py:1333: UserWarning: detected OSX with python3.8+; aliasing chunkize to chunkize_serial\n",
      "  warnings.warn(\"detected %s; aliasing chunkize to chunkize_serial\" % entity)\n"
     ]
    },
    {
     "name": "stdout",
     "output_type": "stream",
     "text": [
      "peak memory: 2493.45 MiB, increment: 1468.16 MiB\n",
      "CPU times: user 11min 18s, sys: 1min 39s, total: 12min 57s\n",
      "Wall time: 15min 24s\n"
     ]
    }
   ],
   "source": [
    "%%time\n",
    "%%memit\n",
    "\n",
    "print(f\"Parsing {ZhWiki}...\")\n",
    "wiki_corpus = WikiCorpus(ZhWiki, token_min_len=1)"
   ]
  },
  {
   "cell_type": "code",
   "execution_count": 8,
   "id": "5a15bb42",
   "metadata": {},
   "outputs": [
    {
     "name": "stdout",
     "output_type": "stream",
     "text": [
      "['歐幾里得', '西元前三世紀的古希臘數學家', '現在被認為是幾何之父', '此畫為拉斐爾的作品', '雅典學院', '数学', '是研究數量', '屬於形式科學的一種', '數學利用抽象化和邏輯推理', '從計數']\n",
      "['蘇格拉底之死', '由雅克', '路易', '大卫所繪', '年', '哲學', '是研究普遍的', '基本问题的学科', '包括存在', '知识']\n",
      "['文學', '在狭义上', '是一种语言艺术', '亦即使用语言文字为手段', '形象化地反映客观社会生活', '表达主观作者思想感情的一种艺术', '文学不仅强调传达思想观念', '更强调传达方式的独特性', '且讲究辞章的美感', '文学']\n"
     ]
    }
   ],
   "source": [
    "g = wiki_corpus.get_texts()\n",
    "print(next(g)[:10])\n",
    "print(next(g)[:10])\n",
    "print(next(g)[:10])"
   ]
  },
  {
   "cell_type": "code",
   "execution_count": 10,
   "id": "4a6e652c",
   "metadata": {},
   "outputs": [
    {
     "name": "stdout",
     "output_type": "stream",
     "text": [
      "[2023-05-09 16:23:28] 已寫入 99999 篇斷詞文章\n",
      "[2023-05-09 16:25:26] 已寫入 199999 篇斷詞文章\n",
      "[2023-05-09 16:28:39] 已寫入 299999 篇斷詞文章\n",
      "[2023-05-09 16:31:01] 已寫入 399999 篇斷詞文章\n"
     ]
    }
   ],
   "source": [
    "WIKI_SEG_TXT = \"wiki_seg.txt\"\n",
    "\n",
    "generator = wiki_corpus.get_texts()\n",
    "\n",
    "with open(WIKI_SEG_TXT, \"w\", encoding='utf-8') as output:\n",
    "    for texts_num, tokens in enumerate(generator):\n",
    "        output.write(\" \".join(tokens) + \"\\n\")\n",
    "\n",
    "        if (texts_num + 1) % 100000 == 0:\n",
    "            print(f\"[{str(datetime.now()):.19}] 已寫入 {texts_num} 篇斷詞文章\")"
   ]
  },
  {
   "cell_type": "code",
   "execution_count": 12,
   "id": "5d10c17e",
   "metadata": {},
   "outputs": [
    {
     "name": "stdout",
     "output_type": "stream",
     "text": [
      "Use 8 workers to train Word2Vec (dim=300)\n",
      "CPU times: user 29min 41s, sys: 3min 36s, total: 33min 17s\n",
      "Wall time: 8min 48s\n"
     ]
    }
   ],
   "source": [
    "%%time\n",
    "\n",
    "from gensim.models import word2vec\n",
    "import multiprocessing\n",
    "\n",
    "max_cpu_counts = multiprocessing.cpu_count()\n",
    "word_dim_size = 300\n",
    "print(f\"Use {max_cpu_counts} workers to train Word2Vec (dim={word_dim_size})\")\n",
    "\n",
    "\n",
    "sentences = word2vec.LineSentence(WIKI_SEG_TXT)\n",
    "\n",
    "model = word2vec.Word2Vec(sentences, vector_size=word_dim_size, workers=max_cpu_counts)\n",
    "\n",
    "output_model = f\"word2vec.zh.{word_dim_size}.model\"\n",
    "model.save(output_model)"
   ]
  },
  {
   "cell_type": "code",
   "execution_count": 13,
   "id": "47afb452",
   "metadata": {},
   "outputs": [
    {
     "name": "stdout",
     "output_type": "stream",
     "text": [
      "word2vec.zh.300.model                word2vec.zh.300.model.wv.vectors.npy\r\n",
      "word2vec.zh.300.model.syn1neg.npy\r\n"
     ]
    }
   ],
   "source": [
    "! ls word2vec.zh*"
   ]
  },
  {
   "cell_type": "code",
   "execution_count": 14,
   "id": "33465e74",
   "metadata": {},
   "outputs": [
    {
     "name": "stdout",
     "output_type": "stream",
     "text": [
      " 57M\tword2vec.zh.300.model\r\n",
      "1.8G\tword2vec.zh.300.model.syn1neg.npy\r\n",
      "1.8G\tword2vec.zh.300.model.wv.vectors.npy\r\n"
     ]
    }
   ],
   "source": [
    "! du -sh word2vec.zh*"
   ]
  },
  {
   "cell_type": "code",
   "execution_count": 15,
   "id": "d88a41bf",
   "metadata": {},
   "outputs": [
    {
     "name": "stdout",
     "output_type": "stream",
     "text": [
      "(1578559, 300)\n"
     ]
    },
    {
     "data": {
      "text/plain": [
       "array([[-5.5526245e-01,  1.3259746e-01, -1.0660629e+00, ...,\n",
       "         1.1430104e+00, -1.6921420e+00,  2.9938367e-01],\n",
       "       [-1.0336232e+00,  5.3094292e-01, -7.8201252e-01, ...,\n",
       "         7.0376503e-01, -1.8065145e+00, -8.5755032e-01],\n",
       "       [-2.3009388e+00,  1.2452873e+00, -1.8620787e+00, ...,\n",
       "         1.5956832e-01, -1.4018891e+00, -6.8957549e-01],\n",
       "       ...,\n",
       "       [-3.4782466e-02,  3.2090057e-02,  1.9380085e-02, ...,\n",
       "        -3.1573884e-02,  1.8495960e-02, -1.2443333e-03],\n",
       "       [-4.6306767e-02,  4.7765542e-02,  2.1769753e-02, ...,\n",
       "        -3.8761143e-02, -8.3485330e-03, -9.4354460e-03],\n",
       "       [ 8.8675199e-03, -5.9071090e-02, -5.8128562e-02, ...,\n",
       "         7.1382105e-02,  1.4362816e-02,  7.8127548e-02]], dtype=float32)"
      ]
     },
     "execution_count": 15,
     "metadata": {},
     "output_type": "execute_result"
    }
   ],
   "source": [
    "print(model.wv.vectors.shape)\n",
    "model.wv.vectors"
   ]
  },
  {
   "cell_type": "code",
   "execution_count": 17,
   "id": "954454aa",
   "metadata": {
    "scrolled": true
   },
   "outputs": [
    {
     "name": "stdout",
     "output_type": "stream",
     "text": [
      "(300,)\n"
     ]
    },
    {
     "data": {
      "text/plain": [
       "array([-1.27786085e-01,  6.97323382e-01,  1.72649875e-01,  4.39359061e-02,\n",
       "        6.64952397e-01, -3.16695243e-01, -7.22664118e-01,  7.34595299e-01,\n",
       "       -5.01322329e-01, -2.41414875e-01, -3.42354596e-01,  2.28264451e-01,\n",
       "        1.51635788e-03,  2.48132840e-01, -7.47404039e-01, -8.59439850e-01,\n",
       "       -8.89822602e-01,  6.54842779e-02, -2.88151443e-01, -1.14040649e+00,\n",
       "       -3.10163736e-01,  3.35338688e-03,  2.05355808e-02,  2.04405710e-01,\n",
       "        4.36992705e-01,  2.02027410e-01,  2.61837304e-01, -1.12827063e+00,\n",
       "       -3.33715290e-01,  5.83666205e-01, -8.37641120e-01, -5.62594891e-01,\n",
       "       -1.14669139e-02, -7.51727641e-01, -2.15703368e-01, -1.11746892e-01,\n",
       "        3.34301859e-01,  4.48547214e-01,  3.00215065e-01,  1.61787331e-01,\n",
       "        7.55512357e-01,  2.81010479e-01, -8.65790844e-01, -4.39300954e-01,\n",
       "       -1.91570699e-01,  2.03706086e-01,  2.93884248e-01, -3.59201074e-01,\n",
       "       -1.50100815e+00,  3.65546852e-01,  1.45399943e-01, -1.19380899e-01,\n",
       "        5.00896163e-02,  3.88028681e-01,  3.39963317e-01,  4.95500773e-01,\n",
       "       -1.66295528e-01, -4.76028770e-01, -8.21013629e-01, -1.17870219e-01,\n",
       "        4.05754298e-02, -8.38811159e-01, -3.60174030e-01,  8.14881772e-02,\n",
       "        2.15626275e-03, -1.19358230e+00, -3.85677546e-01, -1.28972948e+00,\n",
       "       -8.00500959e-02,  1.03168130e+00,  1.64019808e-01, -3.42538238e-01,\n",
       "       -5.77008247e-01, -5.11489213e-01, -7.62048066e-01, -3.04360781e-03,\n",
       "       -7.73207128e-01, -5.46071231e-01,  8.94546974e-03,  1.16762459e+00,\n",
       "        1.52408674e-01, -9.09266770e-02,  1.49868476e+00, -1.04806483e+00,\n",
       "       -5.42928219e-01,  8.86955500e-01, -4.16929394e-01,  4.10856068e-01,\n",
       "        9.32247519e-01,  8.52952421e-01, -1.22937910e-01,  8.02406296e-02,\n",
       "        6.60591960e-01, -4.38071638e-01, -3.64441365e-01, -1.39743432e-01,\n",
       "        6.60219312e-01, -7.11655080e-01, -1.51682332e-01, -5.82821906e-01,\n",
       "        5.04355915e-02,  2.41198525e-01, -4.28868920e-01, -8.02138388e-01,\n",
       "        8.26735795e-01,  6.73015654e-01, -1.52661875e-01,  1.06569827e+00,\n",
       "        8.55211541e-02,  1.01745749e+00, -2.20664382e-01, -2.77928077e-02,\n",
       "        7.54249990e-01, -4.59738433e-01,  1.84031054e-02, -3.85671675e-01,\n",
       "       -1.56205758e-01, -1.26461518e+00,  6.11914933e-01,  4.10615534e-01,\n",
       "       -3.85434091e-01, -4.79394048e-01,  1.03487933e+00,  2.85662383e-01,\n",
       "       -2.70555262e-02, -4.56405342e-01,  1.79889345e+00, -5.83157167e-02,\n",
       "       -4.88117605e-01, -1.01885116e+00, -4.92202312e-01, -6.51369333e-01,\n",
       "        1.31738842e-01,  4.76525217e-01,  6.85872078e-01,  6.27466083e-01,\n",
       "        2.72292286e-01,  4.84887481e-01,  1.08355665e+00, -4.36814576e-01,\n",
       "       -3.05541486e-01, -1.22043937e-01,  1.57572961e+00, -2.13530332e-01,\n",
       "        1.24720953e-01,  7.68686086e-02,  4.50163335e-01,  1.11395061e+00,\n",
       "       -3.39257121e-01, -2.49542519e-01,  7.19033897e-01,  1.04908086e-01,\n",
       "        2.41330236e-01,  1.12151563e+00,  8.78720343e-01, -3.90396446e-01,\n",
       "        2.82287180e-01,  3.79876256e-01, -1.11166932e-01, -9.83964279e-02,\n",
       "        3.44172269e-01, -5.56732357e-01, -3.11707526e-01, -5.76732993e-01,\n",
       "       -2.22552747e-01, -9.12441015e-02,  1.14051044e+00, -1.04689407e+00,\n",
       "       -7.89170980e-01,  7.57203877e-01,  1.55394331e-01,  8.11617523e-02,\n",
       "       -3.30299705e-01, -5.53432889e-02, -3.39242145e-02, -2.10399851e-01,\n",
       "        3.86936404e-02, -8.93779770e-02, -1.07358670e+00,  1.61734009e+00,\n",
       "       -5.00458777e-01, -1.13094173e-01,  3.43402147e-01,  3.59345853e-01,\n",
       "        6.76875263e-02, -9.42175239e-02, -1.15093160e+00,  4.02587146e-01,\n",
       "       -1.03070176e+00,  2.80828983e-01, -8.81094575e-01, -3.29105854e-02,\n",
       "       -1.87014848e-01, -1.86245441e-01,  8.37286469e-03,  7.38601536e-02,\n",
       "       -5.08308887e-01, -8.20093751e-02, -7.94892535e-02,  2.85848558e-01,\n",
       "       -6.02228753e-02, -1.32618099e-01,  2.26877093e-01, -5.10094047e-01,\n",
       "       -1.60541490e-01,  4.90036160e-01, -7.69753754e-02, -6.23379230e-01,\n",
       "        3.32453623e-02,  3.36899370e-01,  8.07607293e-01,  1.65264064e-03,\n",
       "       -6.49253249e-01, -3.02718091e-03,  9.42748249e-01, -1.27786338e-01,\n",
       "       -4.49351162e-01,  5.35585344e-01,  5.82217634e-01,  8.28861892e-01,\n",
       "       -1.04474947e-02, -5.98110497e-01, -5.94642162e-01, -6.30808175e-02,\n",
       "       -1.60072446e-01,  1.27308056e-01, -4.34563830e-02, -6.25413477e-01,\n",
       "       -9.98363048e-02, -1.02990699e+00,  5.97555518e-01,  1.69101608e+00,\n",
       "        6.48319200e-02, -2.10331138e-02,  6.77619994e-01,  6.49914324e-01,\n",
       "       -3.68057936e-01, -5.34215569e-01, -3.53665411e-01, -2.91714311e-01,\n",
       "       -6.97421551e-01,  6.89816922e-02, -5.42595983e-01,  4.36429270e-02,\n",
       "       -3.12621146e-01, -5.25134146e-01, -1.91763695e-02,  7.92753398e-01,\n",
       "       -3.53202134e-01, -2.89321154e-01, -4.35917452e-02,  3.24258059e-01,\n",
       "        7.46423081e-02, -5.99981956e-02, -1.95169806e-01, -7.36282095e-02,\n",
       "       -3.43948215e-01, -1.10974096e-01, -6.37962401e-01,  1.57085454e+00,\n",
       "       -4.26012099e-01, -3.96220267e-01, -1.52521625e-01,  2.75277227e-01,\n",
       "        4.19237852e-01, -3.83658886e-01, -1.67595409e-02, -4.90709007e-01,\n",
       "        3.00592303e-01, -1.00844228e+00, -7.82632530e-01,  2.85826594e-01,\n",
       "       -2.45122775e-01, -9.32432294e-01,  5.55066645e-01,  1.62181258e-02,\n",
       "       -1.76728666e-01, -1.12930238e+00, -6.08118117e-01, -2.11318642e-01,\n",
       "       -2.12205157e-01, -2.27970079e-01, -3.55888397e-01, -1.96661487e-01,\n",
       "       -7.79933274e-01, -2.48321980e-01, -4.49812651e-01, -4.72471505e-01,\n",
       "       -5.63870780e-02, -5.40560722e-01,  1.26769096e-01,  3.20447803e-01,\n",
       "       -8.99012506e-01, -6.68816194e-02, -8.88788998e-01, -3.35090697e-01,\n",
       "        1.35577157e-01, -4.33094144e-01, -1.46369904e-01,  3.71091753e-01],\n",
       "      dtype=float32)"
      ]
     },
     "execution_count": 17,
     "metadata": {},
     "output_type": "execute_result"
    }
   ],
   "source": [
    "vec = model.wv['數學家']\n",
    "print(vec.shape)\n",
    "vec"
   ]
  },
  {
   "cell_type": "code",
   "execution_count": 18,
   "id": "d3e36ff5",
   "metadata": {},
   "outputs": [
    {
     "name": "stdout",
     "output_type": "stream",
     "text": [
      "\"Key '這肯定沒見過 ' not present\"\n"
     ]
    }
   ],
   "source": [
    "word = \"這肯定沒見過 \"\n",
    "\n",
    "try:\n",
    "    vec = model.wv[word]\n",
    "except KeyError as e:\n",
    "    print(e)"
   ]
  },
  {
   "cell_type": "code",
   "execution_count": 19,
   "id": "dd6348e0",
   "metadata": {},
   "outputs": [
    {
     "data": {
      "text/plain": [
       "[('飲品', 0.9077415466308594),\n",
       " ('服飾', 0.8622954487800598),\n",
       " ('冰淇淋', 0.8549118638038635),\n",
       " ('零食', 0.8486245274543762),\n",
       " ('化妝品', 0.8456978797912598),\n",
       " ('啤酒', 0.8391772508621216),\n",
       " ('食品', 0.8333563804626465),\n",
       " ('手錶', 0.8316587805747986),\n",
       " ('家電', 0.8273059725761414),\n",
       " ('咖啡', 0.826672375202179)]"
      ]
     },
     "execution_count": 19,
     "metadata": {},
     "output_type": "execute_result"
    }
   ],
   "source": [
    "model.wv.most_similar(\"飲料\", topn=10)"
   ]
  },
  {
   "cell_type": "code",
   "execution_count": 20,
   "id": "e45815c7",
   "metadata": {},
   "outputs": [
    {
     "data": {
      "text/plain": [
       "[('truck', 0.7631158828735352),\n",
       " ('wagon', 0.7157680988311768),\n",
       " ('seat', 0.7157661318778992),\n",
       " ('porsche', 0.7081111669540405),\n",
       " ('motor', 0.706754207611084),\n",
       " ('volkswagen', 0.7012067437171936),\n",
       " ('cadillac', 0.7010031342506409),\n",
       " ('motorcycle', 0.6970956921577454),\n",
       " ('saloon', 0.6943933963775635),\n",
       " ('coupe', 0.693434476852417)]"
      ]
     },
     "execution_count": 20,
     "metadata": {},
     "output_type": "execute_result"
    }
   ],
   "source": [
    "model.wv.most_similar(\"car\")"
   ]
  },
  {
   "cell_type": "code",
   "execution_count": 21,
   "id": "60f9946e",
   "metadata": {},
   "outputs": [
    {
     "data": {
      "text/plain": [
       "[('instagram', 0.8760004639625549),\n",
       " ('臉書', 0.8241063952445984),\n",
       " ('twitter', 0.795880138874054),\n",
       " ('專頁', 0.786584198474884),\n",
       " ('facebook專頁', 0.7610263228416443),\n",
       " ('推特', 0.7491406798362732),\n",
       " ('yahoo', 0.7351948618888855),\n",
       " ('myspace', 0.7329583764076233),\n",
       " ('blogger', 0.732337474822998),\n",
       " ('新浪微博', 0.7301666736602783)]"
      ]
     },
     "execution_count": 21,
     "metadata": {},
     "output_type": "execute_result"
    }
   ],
   "source": [
    "model.wv.most_similar(\"facebook\")"
   ]
  },
  {
   "cell_type": "code",
   "execution_count": 22,
   "id": "1be50812",
   "metadata": {},
   "outputs": [
    {
     "data": {
      "text/plain": [
       "[('恐嚇', 0.8735519647598267),\n",
       " ('性騷擾', 0.8674851059913635),\n",
       " ('盜竊', 0.8672724366188049),\n",
       " ('竊盜', 0.854965329170227),\n",
       " ('騷擾', 0.8486077189445496),\n",
       " ('解決問題', 0.8465505242347717),\n",
       " ('不負責任', 0.8458543419837952),\n",
       " ('賣淫', 0.8389670252799988),\n",
       " ('的態度', 0.8382847905158997),\n",
       " ('羞辱', 0.8377043008804321)]"
      ]
     },
     "execution_count": 22,
     "metadata": {},
     "output_type": "execute_result"
    }
   ],
   "source": [
    "model.wv.most_similar(\"詐欺\")"
   ]
  },
  {
   "cell_type": "code",
   "execution_count": 23,
   "id": "0402252c",
   "metadata": {},
   "outputs": [
    {
     "data": {
      "text/plain": [
       "[('總值', 0.8325327634811401),\n",
       " ('耗資超過', 0.7923861742019653),\n",
       " ('年內', 0.786107063293457),\n",
       " ('由於covid', 0.7669464945793152),\n",
       " ('百萬歐元', 0.7648088932037354),\n",
       " ('另加', 0.7599743604660034),\n",
       " ('計劃在', 0.7575161457061768),\n",
       " ('億美金', 0.7558749318122864),\n",
       " ('預算為', 0.7556796073913574),\n",
       " ('花費', 0.7482377886772156)]"
      ]
     },
     "execution_count": 23,
     "metadata": {},
     "output_type": "execute_result"
    }
   ],
   "source": [
    "model.wv.most_similar(\"合約\")"
   ]
  },
  {
   "cell_type": "code",
   "execution_count": 28,
   "id": "5682716e",
   "metadata": {},
   "outputs": [
    {
     "data": {
      "text/plain": [
       "0.45945182"
      ]
     },
     "execution_count": 28,
     "metadata": {},
     "output_type": "execute_result"
    }
   ],
   "source": [
    "model.wv.similarity(\"連結\", \"鏈結\")"
   ]
  },
  {
   "cell_type": "code",
   "execution_count": 25,
   "id": "f196327c",
   "metadata": {},
   "outputs": [
    {
     "data": {
      "text/plain": [
       "0.30392832"
      ]
     },
     "execution_count": 25,
     "metadata": {},
     "output_type": "execute_result"
    }
   ],
   "source": [
    "model.wv.similarity(\"連結\", \"陰天\")"
   ]
  },
  {
   "cell_type": "code",
   "execution_count": 26,
   "id": "f1c56d8f",
   "metadata": {},
   "outputs": [
    {
     "name": "stdout",
     "output_type": "stream",
     "text": [
      "Loading word2vec.zh.300.model...\n"
     ]
    }
   ],
   "source": [
    "print(f\"Loading {output_model}...\")\n",
    "new_model = word2vec.Word2Vec.load(output_model)"
   ]
  },
  {
   "cell_type": "code",
   "execution_count": 27,
   "id": "99c15a6f",
   "metadata": {},
   "outputs": [
    {
     "data": {
      "text/plain": [
       "True"
      ]
     },
     "execution_count": 27,
     "metadata": {},
     "output_type": "execute_result"
    }
   ],
   "source": [
    "model.wv.similarity(\"連結\", \"陰天\") == new_model.wv.similarity(\"連結\", \"陰天\")"
   ]
  }
 ],
 "metadata": {
  "kernelspec": {
   "display_name": "Python 3 (ipykernel)",
   "language": "python",
   "name": "python3"
  },
  "language_info": {
   "codemirror_mode": {
    "name": "ipython",
    "version": 3
   },
   "file_extension": ".py",
   "mimetype": "text/x-python",
   "name": "python",
   "nbconvert_exporter": "python",
   "pygments_lexer": "ipython3",
   "version": "3.9.13"
  }
 },
 "nbformat": 4,
 "nbformat_minor": 5
}
