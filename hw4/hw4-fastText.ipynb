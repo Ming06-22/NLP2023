{
 "cells": [
  {
   "cell_type": "code",
   "execution_count": 1,
   "id": "20ad8950",
   "metadata": {},
   "outputs": [],
   "source": [
    "import os\n",
    "import gensim\n",
    "import jieba\n",
    "import zhconv\n",
    "\n",
    "if (not os.path.isfile(\"dict.txt.big\")):\n",
    "    ! wget https://github.com/fxsjy/jieba/raw/master/extra_dict/dict.txt.big\n",
    "\n",
    "jieba.set_dictionary(\"dict.txt.big\")"
   ]
  },
  {
   "cell_type": "code",
   "execution_count": 2,
   "id": "7789f16d",
   "metadata": {},
   "outputs": [],
   "source": [
    "import spacy\n",
    "\n",
    "nlp_zh = spacy.load(\"zh_core_web_sm\")\n",
    "nlp_en = spacy.load(\"en_core_web_sm\")"
   ]
  },
  {
   "cell_type": "code",
   "execution_count": 3,
   "id": "6ee9c465",
   "metadata": {},
   "outputs": [],
   "source": [
    "STOPWORDS =  nlp_zh.Defaults.stop_words | nlp_en.Defaults.stop_words | set([\"\\n\", \"\\r\\n\", \"\\t\", \" \", \"\"])\n",
    "\n",
    "for word in STOPWORDS.copy():\n",
    "    STOPWORDS.add(zhconv.convert(word, \"zh-tw\"))"
   ]
  },
  {
   "cell_type": "code",
   "execution_count": 4,
   "id": "024c77f5",
   "metadata": {},
   "outputs": [],
   "source": [
    "def preprocess_and_tokenize(text, token_min_len = 1, token_max_len = 15, lower = True):\n",
    "    if (lower):\n",
    "        text = text.lower()\n",
    "    text = zhconv.convert(text, \"zh-tw\")\n",
    "    return [\n",
    "        token for token in jieba.cut(text, cut_all = False)\n",
    "        if token_min_len <= len(token) <= token_max_len and token not in STOPWORDS\n",
    "    ]"
   ]
  },
  {
   "cell_type": "code",
   "execution_count": 6,
   "id": "41d5f1aa",
   "metadata": {},
   "outputs": [
    {
     "name": "stderr",
     "output_type": "stream",
     "text": [
      "Building prefix dict from /Users/ming/Desktop/大三/自然語言處理/hw4/dict.txt.big ...\n",
      "Loading model from cache /var/folders/ly/4jgkxntx463ghnpv_mjkrb600000gn/T/jieba.uf2990b13ad16ddc732a673b568b875e9.cache\n",
      "Loading model cost 0.440 seconds.\n",
      "Prefix dict has been built successfully.\n"
     ]
    }
   ],
   "source": [
    "import fasttext\n",
    "import fasttext.util\n",
    "\n",
    "tokenized_data = []\n",
    "n = 0\n",
    "with open(\"wiki_seg.txt\") as f:\n",
    "    for row in f.readlines():\n",
    "        tokenized_data.append(preprocess_and_tokenize(row))"
   ]
  },
  {
   "cell_type": "code",
   "execution_count": 7,
   "id": "98043f5b",
   "metadata": {},
   "outputs": [],
   "source": [
    "from gensim.models import FastText\n",
    "\n",
    "model = FastText()\n",
    "\n",
    "model.build_vocab(tokenized_data)\n",
    "model.train(tokenized_data, total_examples = len(tokenized_data), epochs = 300) \n",
    "\n",
    "model.save(\"fasttext.mdl\")"
   ]
  },
  {
   "cell_type": "code",
   "execution_count": 10,
   "id": "bb9c75d1",
   "metadata": {},
   "outputs": [
    {
     "data": {
      "text/plain": [
       "[('飲品', 0.9090189933776855),\n",
       " ('果汁', 0.8486908674240112),\n",
       " ('酒類', 0.7625470161437988),\n",
       " ('啤酒', 0.7542792558670044),\n",
       " ('可口可樂', 0.7510690689086914),\n",
       " ('冰淇淋', 0.747668981552124),\n",
       " ('牛奶', 0.7422364950180054),\n",
       " ('軟飲料', 0.7361465096473694),\n",
       " ('罐裝', 0.7284132838249207),\n",
       " ('口香糖', 0.7188053131103516)]"
      ]
     },
     "execution_count": 10,
     "metadata": {},
     "output_type": "execute_result"
    }
   ],
   "source": [
    "model.wv.most_similar(\"飲料\")"
   ]
  },
  {
   "cell_type": "code",
   "execution_count": 11,
   "id": "3189ce2a",
   "metadata": {},
   "outputs": [
    {
     "data": {
      "text/plain": [
       "[('motorcoach', 0.8330457806587219),\n",
       " ('truck', 0.8212042450904846),\n",
       " ('cab', 0.8201040029525757),\n",
       " ('motorcar', 0.8142408728599548),\n",
       " ('seat', 0.8125919699668884),\n",
       " ('motor', 0.8123607039451599),\n",
       " ('motorcycle', 0.8039779663085938),\n",
       " ('roadster', 0.7971475720405579),\n",
       " ('motorist', 0.7958347797393799),\n",
       " ('automobile', 0.7922669053077698)]"
      ]
     },
     "execution_count": 11,
     "metadata": {},
     "output_type": "execute_result"
    }
   ],
   "source": [
    "model.wv.most_similar(\"car\")"
   ]
  },
  {
   "cell_type": "code",
   "execution_count": 12,
   "id": "287788ef",
   "metadata": {},
   "outputs": [
    {
     "data": {
      "text/plain": [
       "[('youtubefacebook', 0.8432331681251526),\n",
       " ('instagram', 0.8339320421218872),\n",
       " ('thefacebook', 0.7910415530204773),\n",
       " ('專頁', 0.7892942428588867),\n",
       " ('youtube', 0.7576664090156555),\n",
       " ('lnstagram', 0.7364949584007263),\n",
       " ('myspace', 0.7351047396659851),\n",
       " ('linkedin', 0.7348244786262512),\n",
       " ('telegram', 0.7286040782928467),\n",
       " ('whatsapp', 0.728196918964386)]"
      ]
     },
     "execution_count": 12,
     "metadata": {},
     "output_type": "execute_result"
    }
   ],
   "source": [
    "model.wv.most_similar(\"facebook\")"
   ]
  },
  {
   "cell_type": "code",
   "execution_count": 13,
   "id": "8642a0d5",
   "metadata": {},
   "outputs": [
    {
     "data": {
      "text/plain": [
       "[('欺詐', 0.7847247123718262),\n",
       " ('詐騙', 0.6378833055496216),\n",
       " ('竊盜', 0.581135094165802),\n",
       " ('殺人', 0.5783799886703491),\n",
       " ('被害者', 0.5751656889915466),\n",
       " ('詐欺罪', 0.5725432634353638),\n",
       " ('誘拐', 0.5717222094535828),\n",
       " ('委託人', 0.5662581920623779),\n",
       " ('詐騙者', 0.5610893368721008),\n",
       " ('信用調查', 0.5583631992340088)]"
      ]
     },
     "execution_count": 13,
     "metadata": {},
     "output_type": "execute_result"
    }
   ],
   "source": [
    "model.wv.most_similar(\"詐欺\")"
   ]
  },
  {
   "cell_type": "code",
   "execution_count": 14,
   "id": "5495f62b",
   "metadata": {},
   "outputs": [
    {
     "data": {
      "text/plain": [
       "[('合同', 0.7991208434104919),\n",
       " ('簽約', 0.7823731303215027),\n",
       " ('續約', 0.7787519097328186),\n",
       " ('到期', 0.7484908103942871),\n",
       " ('簽下', 0.7096284031867981),\n",
       " ('租約', 0.7023362517356873),\n",
       " ('買斷', 0.6730079054832458),\n",
       " ('選擇權', 0.6726821064949036),\n",
       " ('新東家', 0.6714859008789062),\n",
       " ('解約', 0.6664419770240784)]"
      ]
     },
     "execution_count": 14,
     "metadata": {},
     "output_type": "execute_result"
    }
   ],
   "source": [
    "model.wv.most_similar(\"合約\")"
   ]
  },
  {
   "cell_type": "code",
   "execution_count": 15,
   "id": "94af772e",
   "metadata": {},
   "outputs": [
    {
     "data": {
      "text/plain": [
       "[('飲品', 0.9090189933776855),\n",
       " ('果汁', 0.8486908674240112),\n",
       " ('酒類', 0.7625470161437988),\n",
       " ('啤酒', 0.7542792558670044),\n",
       " ('可口可樂', 0.7510690689086914),\n",
       " ('冰淇淋', 0.747668981552124),\n",
       " ('牛奶', 0.7422364950180054),\n",
       " ('軟飲料', 0.7361465096473694),\n",
       " ('罐裝', 0.7284132838249207),\n",
       " ('口香糖', 0.7188053131103516)]"
      ]
     },
     "execution_count": 15,
     "metadata": {},
     "output_type": "execute_result"
    }
   ],
   "source": [
    "model.wv.most_similar(\"飲料\")"
   ]
  },
  {
   "cell_type": "code",
   "execution_count": 17,
   "id": "4d54c00b",
   "metadata": {},
   "outputs": [
    {
     "data": {
      "text/plain": [
       "0.93718535"
      ]
     },
     "execution_count": 17,
     "metadata": {},
     "output_type": "execute_result"
    }
   ],
   "source": [
    "model.wv.similarity(\"連結\", \"鏈結\")"
   ]
  },
  {
   "cell_type": "code",
   "execution_count": 18,
   "id": "641cbc17",
   "metadata": {},
   "outputs": [
    {
     "data": {
      "text/plain": [
       "0.12764695"
      ]
     },
     "execution_count": 18,
     "metadata": {},
     "output_type": "execute_result"
    }
   ],
   "source": [
    "model.wv.similarity(\"連結\", \"陰天\")"
   ]
  }
 ],
 "metadata": {
  "kernelspec": {
   "display_name": "Python 3 (ipykernel)",
   "language": "python",
   "name": "python3"
  },
  "language_info": {
   "codemirror_mode": {
    "name": "ipython",
    "version": 3
   },
   "file_extension": ".py",
   "mimetype": "text/x-python",
   "name": "python",
   "nbconvert_exporter": "python",
   "pygments_lexer": "ipython3",
   "version": "3.9.13"
  }
 },
 "nbformat": 4,
 "nbformat_minor": 5
}
